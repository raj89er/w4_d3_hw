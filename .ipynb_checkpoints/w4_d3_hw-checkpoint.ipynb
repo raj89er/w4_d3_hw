{
 "cells": [
  {
   "cell_type": "markdown",
   "id": "37565b2a-3093-4f8f-9707-79522e437794",
   "metadata": {},
   "source": [
    "# Exercises"
   ]
  },
  {
   "cell_type": "markdown",
   "id": "0b4a8c4c-c429-45d4-aa42-525d7787baac",
   "metadata": {},
   "source": [
    "### Exercise #1 <br>\n",
    "<p>Write a function that takes a list of integers and returns the median value. *Can assume that the list of integers is sorted in ascending value*.</p>"
   ]
  },
  {
   "cell_type": "code",
   "execution_count": null,
   "id": "73ab3567-eac6-42d0-855b-c7b6aad18515",
   "metadata": {},
   "outputs": [],
   "source": []
  },
  {
   "cell_type": "markdown",
   "id": "ead551b9-d4c7-4a8c-b745-1d48b7766c84",
   "metadata": {},
   "source": [
    "### Exercise #2 <br>\n",
    "<p>Create a function that counts how many distinct words are in the string below, then outputs a dictionary with the words as the key and the value as the amount of times that word appears in the string.</p>\n",
    "Example Output:<code>{'in': 1, 'computing': 1, 'a': 5, ...}</code>"
   ]
  },
  {
   "cell_type": "code",
   "execution_count": null,
   "id": "e62fed88-5940-4ec3-a8a0-a77855f9f80c",
   "metadata": {},
   "outputs": [],
   "source": []
  },
  {
   "cell_type": "markdown",
   "id": "9d75d0c4-33fb-4bdd-b9b5-f74cfb5caf9b",
   "metadata": {},
   "source": [
    "## Exercise #3\n",
    "\n",
    "Write a function implementing a Linear Search Algorithm. A linear search is a method for finding an element within a list. It sequentially checks each element of the list until a match is found or the whole list has been searched. If you do not find a match, return -1. *You can assume the list is sorted*"
   ]
  },
  {
   "cell_type": "code",
   "execution_count": null,
   "id": "f5097db5-1c7f-4209-bdda-9de72650b514",
   "metadata": {},
   "outputs": [],
   "source": []
  }
 ],
 "metadata": {
  "kernelspec": {
   "display_name": "Python 3 (ipykernel)",
   "language": "python",
   "name": "python3"
  },
  "language_info": {
   "codemirror_mode": {
    "name": "ipython",
    "version": 3
   },
   "file_extension": ".py",
   "mimetype": "text/x-python",
   "name": "python",
   "nbconvert_exporter": "python",
   "pygments_lexer": "ipython3",
   "version": "3.11.7"
  }
 },
 "nbformat": 4,
 "nbformat_minor": 5
}
